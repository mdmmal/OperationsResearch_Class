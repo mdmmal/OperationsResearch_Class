{
  "nbformat": 4,
  "nbformat_minor": 0,
  "metadata": {
    "colab": {
      "provenance": [],
      "authorship_tag": "ABX9TyMGse6adpe8DzG06aOm/Phj",
      "include_colab_link": true
    },
    "kernelspec": {
      "name": "python3",
      "display_name": "Python 3"
    },
    "language_info": {
      "name": "python"
    }
  },
  "cells": [
    {
      "cell_type": "markdown",
      "metadata": {
        "id": "view-in-github",
        "colab_type": "text"
      },
      "source": [
        "<a href=\"https://colab.research.google.com/github/mdmmal/OperationsResearch_Class/blob/main/lab3.ipynb\" target=\"_parent\"><img src=\"https://colab.research.google.com/assets/colab-badge.svg\" alt=\"Open In Colab\"/></a>"
      ]
    },
    {
      "cell_type": "markdown",
      "source": [
        "### Regression Assignment"
      ],
      "metadata": {
        "id": "Yf5j_b2Q1PSi"
      }
    },
    {
      "cell_type": "code",
      "execution_count": null,
      "metadata": {
        "id": "GXJ-bpcEwZoL"
      },
      "outputs": [],
      "source": []
    },
    {
      "cell_type": "markdown",
      "source": [
        "###**Linear Regression**\n",
        "Fit goals vs points in a linear regression. Fit a multiple regression on goals and assists vs points. What do you notice about these two fits. https://raw.githubusercontent.com/nurfnick/Data_Sets_For_Stats/master/CuratedDataSets/hockey.csv"
      ],
      "metadata": {
        "id": "IVSIGL0e6Cla"
      }
    },
    {
      "cell_type": "markdown",
      "source": [
        "###**Simple Regression : Points vs Goals**"
      ],
      "metadata": {
        "id": "D4ZXK4Dv5ldO"
      }
    },
    {
      "cell_type": "code",
      "source": [
        "import pandas as pa\n",
        "import numpy as np\n",
        "import matplotlib.pyplot as plt\n",
        "from sklearn.linear_model import LinearRegression\n",
        "from sklearn.metrics import r2_score\n",
        "\n",
        "df = pa.read_csv('https://raw.githubusercontent.com/nurfnick/Data_Sets_For_Stats/master/CuratedDataSets/hockey.csv')\n",
        "\n",
        "# goals vs points\n",
        "X = np.array(df[['G']])\n",
        "y = np.array(df.PTS)\n",
        "m1 = LinearRegression().fit(X, y)\n",
        "pred1 = m1.predict(X)\n",
        "\n",
        "print(\"R2 for PTS ~ G:\", r2_score(y, pred1))\n"
      ],
      "metadata": {
        "colab": {
          "base_uri": "https://localhost:8080/"
        },
        "id": "uu-a0SU-6Xpy",
        "outputId": "cfee65bd-0214-4247-a793-d90bc041f5a3"
      },
      "execution_count": null,
      "outputs": [
        {
          "output_type": "stream",
          "name": "stdout",
          "text": [
            "R2 for PTS ~ G: 0.8461669386312143\n"
          ]
        }
      ]
    },
    {
      "cell_type": "markdown",
      "source": [
        "###Multiple Regression — Points vs Goals & Assists"
      ],
      "metadata": {
        "id": "sQcpclmK7jJw"
      }
    },
    {
      "cell_type": "code",
      "source": [
        "# goals + assists vs points\n",
        "X2 = np.array(df[['G','A']])\n",
        "m2 = LinearRegression().fit(X2, y)\n",
        "pred2 = m2.predict(X2)\n",
        "\n",
        "print(\"R2 for PTS ~ G + A:\", r2_score(y, pred2))\n"
      ],
      "metadata": {
        "colab": {
          "base_uri": "https://localhost:8080/"
        },
        "id": "tnfbgBcS7zib",
        "outputId": "67254e68-bc51-43d4-d7f8-4ece0cbe89f9"
      },
      "execution_count": null,
      "outputs": [
        {
          "output_type": "stream",
          "name": "stdout",
          "text": [
            "R2 for PTS ~ G + A: 1.0\n"
          ]
        }
      ]
    },
    {
      "cell_type": "markdown",
      "source": [
        "##What do you notice?"
      ],
      "metadata": {
        "id": "FZs-gS7w8Czg"
      }
    },
    {
      "cell_type": "markdown",
      "source": [
        "The regression using only Goals (PTS ~ G) had an R² of 0.846.\n",
        "The regression using both Goals and Assists (PTS ~ G + A) had a higher R² of 1.\n",
        "\n",
        "This means adding Assists improves the prediction of Points, so multiple regression fits better than using only Goals."
      ],
      "metadata": {
        "id": "HZ9WVaZi8izq"
      }
    },
    {
      "cell_type": "markdown",
      "source": [
        "###**Logistic Regression**\n",
        "\n",
        "Using the 538 Avengers dataset,https://github.com/fivethirtyeight/data/blob/master/avengers/avengers.csv, fit a logistic regression to predict Death1 (first time a character might die) based on whatever variables you find interesting. Make a prediction using probabilities on your favorite character."
      ],
      "metadata": {
        "id": "DRcCReOK-EFa"
      }
    },
    {
      "cell_type": "code",
      "source": [
        "import pandas as pa\n",
        "import matplotlib.pyplot as plt\n",
        "from sklearn.linear_model import LogisticRegression\n",
        "\n",
        "# Load Avengers data\n",
        "df = pa.read_csv('https://raw.githubusercontent.com/nurfnick/Data_Sets_For_Stats/master/CuratedDataSets/Avengers')\n",
        "df.head()\n"
      ],
      "metadata": {
        "colab": {
          "base_uri": "https://localhost:8080/",
          "height": 794
        },
        "id": "1oexSZxntaFz",
        "outputId": "9a895cdf-33fb-4bdc-bd15-37b469e17f9a"
      },
      "execution_count": null,
      "outputs": [
        {
          "output_type": "execute_result",
          "data": {
            "text/plain": [
              "                                                 URL  \\\n",
              "0      http://marvel.wikia.com/Henry_Pym_(Earth-616)   \n",
              "1  http://marvel.wikia.com/Janet_van_Dyne_(Earth-...   \n",
              "2  http://marvel.wikia.com/Anthony_Stark_(Earth-616)   \n",
              "3  http://marvel.wikia.com/Robert_Bruce_Banner_(E...   \n",
              "4   http://marvel.wikia.com/Thor_Odinson_(Earth-616)   \n",
              "\n",
              "                    Name/Alias  Appearances Current?  Gender  \\\n",
              "0    Henry Jonathan \"Hank\" Pym         1269      YES    MALE   \n",
              "1               Janet van Dyne         1165      YES  FEMALE   \n",
              "2  Anthony Edward \"Tony\" Stark         3068      YES    MALE   \n",
              "3          Robert Bruce Banner         2089      YES    MALE   \n",
              "4                 Thor Odinson         2402      YES    MALE   \n",
              "\n",
              "  Probationary Introl Full/Reserve Avengers Intro  Year  Years since joining  \\\n",
              "0                 NaN                      Sep-63  1963                   52   \n",
              "1                 NaN                      Sep-63  1963                   52   \n",
              "2                 NaN                      Sep-63  1963                   52   \n",
              "3                 NaN                      Sep-63  1963                   52   \n",
              "4                 NaN                      Sep-63  1963                   52   \n",
              "\n",
              "  Honorary  ... Return1 Death2 Return2 Death3 Return3 Death4 Return4 Death5  \\\n",
              "0     Full  ...      NO    NaN     NaN    NaN     NaN    NaN     NaN    NaN   \n",
              "1     Full  ...     YES    NaN     NaN    NaN     NaN    NaN     NaN    NaN   \n",
              "2     Full  ...     YES    NaN     NaN    NaN     NaN    NaN     NaN    NaN   \n",
              "3     Full  ...     YES    NaN     NaN    NaN     NaN    NaN     NaN    NaN   \n",
              "4     Full  ...     YES    YES      NO    NaN     NaN    NaN     NaN    NaN   \n",
              "\n",
              "  Return5                                              Notes  \n",
              "0     NaN  Merged with Ultron in Rage of Ultron Vol. 1. A...  \n",
              "1     NaN  Dies in Secret Invasion V1:I8. Actually was se...  \n",
              "2     NaN  Death: \"Later while under the influence of Imm...  \n",
              "3     NaN  Dies in Ghosts of the Future arc. However \"he ...  \n",
              "4     NaN  Dies in Fear Itself brought back because that'...  \n",
              "\n",
              "[5 rows x 21 columns]"
            ],
            "text/html": [
              "\n",
              "  <div id=\"df-af2c5fc8-b521-4ad5-9c11-b07d13e29e19\" class=\"colab-df-container\">\n",
              "    <div>\n",
              "<style scoped>\n",
              "    .dataframe tbody tr th:only-of-type {\n",
              "        vertical-align: middle;\n",
              "    }\n",
              "\n",
              "    .dataframe tbody tr th {\n",
              "        vertical-align: top;\n",
              "    }\n",
              "\n",
              "    .dataframe thead th {\n",
              "        text-align: right;\n",
              "    }\n",
              "</style>\n",
              "<table border=\"1\" class=\"dataframe\">\n",
              "  <thead>\n",
              "    <tr style=\"text-align: right;\">\n",
              "      <th></th>\n",
              "      <th>URL</th>\n",
              "      <th>Name/Alias</th>\n",
              "      <th>Appearances</th>\n",
              "      <th>Current?</th>\n",
              "      <th>Gender</th>\n",
              "      <th>Probationary Introl</th>\n",
              "      <th>Full/Reserve Avengers Intro</th>\n",
              "      <th>Year</th>\n",
              "      <th>Years since joining</th>\n",
              "      <th>Honorary</th>\n",
              "      <th>...</th>\n",
              "      <th>Return1</th>\n",
              "      <th>Death2</th>\n",
              "      <th>Return2</th>\n",
              "      <th>Death3</th>\n",
              "      <th>Return3</th>\n",
              "      <th>Death4</th>\n",
              "      <th>Return4</th>\n",
              "      <th>Death5</th>\n",
              "      <th>Return5</th>\n",
              "      <th>Notes</th>\n",
              "    </tr>\n",
              "  </thead>\n",
              "  <tbody>\n",
              "    <tr>\n",
              "      <th>0</th>\n",
              "      <td>http://marvel.wikia.com/Henry_Pym_(Earth-616)</td>\n",
              "      <td>Henry Jonathan \"Hank\" Pym</td>\n",
              "      <td>1269</td>\n",
              "      <td>YES</td>\n",
              "      <td>MALE</td>\n",
              "      <td>NaN</td>\n",
              "      <td>Sep-63</td>\n",
              "      <td>1963</td>\n",
              "      <td>52</td>\n",
              "      <td>Full</td>\n",
              "      <td>...</td>\n",
              "      <td>NO</td>\n",
              "      <td>NaN</td>\n",
              "      <td>NaN</td>\n",
              "      <td>NaN</td>\n",
              "      <td>NaN</td>\n",
              "      <td>NaN</td>\n",
              "      <td>NaN</td>\n",
              "      <td>NaN</td>\n",
              "      <td>NaN</td>\n",
              "      <td>Merged with Ultron in Rage of Ultron Vol. 1. A...</td>\n",
              "    </tr>\n",
              "    <tr>\n",
              "      <th>1</th>\n",
              "      <td>http://marvel.wikia.com/Janet_van_Dyne_(Earth-...</td>\n",
              "      <td>Janet van Dyne</td>\n",
              "      <td>1165</td>\n",
              "      <td>YES</td>\n",
              "      <td>FEMALE</td>\n",
              "      <td>NaN</td>\n",
              "      <td>Sep-63</td>\n",
              "      <td>1963</td>\n",
              "      <td>52</td>\n",
              "      <td>Full</td>\n",
              "      <td>...</td>\n",
              "      <td>YES</td>\n",
              "      <td>NaN</td>\n",
              "      <td>NaN</td>\n",
              "      <td>NaN</td>\n",
              "      <td>NaN</td>\n",
              "      <td>NaN</td>\n",
              "      <td>NaN</td>\n",
              "      <td>NaN</td>\n",
              "      <td>NaN</td>\n",
              "      <td>Dies in Secret Invasion V1:I8. Actually was se...</td>\n",
              "    </tr>\n",
              "    <tr>\n",
              "      <th>2</th>\n",
              "      <td>http://marvel.wikia.com/Anthony_Stark_(Earth-616)</td>\n",
              "      <td>Anthony Edward \"Tony\" Stark</td>\n",
              "      <td>3068</td>\n",
              "      <td>YES</td>\n",
              "      <td>MALE</td>\n",
              "      <td>NaN</td>\n",
              "      <td>Sep-63</td>\n",
              "      <td>1963</td>\n",
              "      <td>52</td>\n",
              "      <td>Full</td>\n",
              "      <td>...</td>\n",
              "      <td>YES</td>\n",
              "      <td>NaN</td>\n",
              "      <td>NaN</td>\n",
              "      <td>NaN</td>\n",
              "      <td>NaN</td>\n",
              "      <td>NaN</td>\n",
              "      <td>NaN</td>\n",
              "      <td>NaN</td>\n",
              "      <td>NaN</td>\n",
              "      <td>Death: \"Later while under the influence of Imm...</td>\n",
              "    </tr>\n",
              "    <tr>\n",
              "      <th>3</th>\n",
              "      <td>http://marvel.wikia.com/Robert_Bruce_Banner_(E...</td>\n",
              "      <td>Robert Bruce Banner</td>\n",
              "      <td>2089</td>\n",
              "      <td>YES</td>\n",
              "      <td>MALE</td>\n",
              "      <td>NaN</td>\n",
              "      <td>Sep-63</td>\n",
              "      <td>1963</td>\n",
              "      <td>52</td>\n",
              "      <td>Full</td>\n",
              "      <td>...</td>\n",
              "      <td>YES</td>\n",
              "      <td>NaN</td>\n",
              "      <td>NaN</td>\n",
              "      <td>NaN</td>\n",
              "      <td>NaN</td>\n",
              "      <td>NaN</td>\n",
              "      <td>NaN</td>\n",
              "      <td>NaN</td>\n",
              "      <td>NaN</td>\n",
              "      <td>Dies in Ghosts of the Future arc. However \"he ...</td>\n",
              "    </tr>\n",
              "    <tr>\n",
              "      <th>4</th>\n",
              "      <td>http://marvel.wikia.com/Thor_Odinson_(Earth-616)</td>\n",
              "      <td>Thor Odinson</td>\n",
              "      <td>2402</td>\n",
              "      <td>YES</td>\n",
              "      <td>MALE</td>\n",
              "      <td>NaN</td>\n",
              "      <td>Sep-63</td>\n",
              "      <td>1963</td>\n",
              "      <td>52</td>\n",
              "      <td>Full</td>\n",
              "      <td>...</td>\n",
              "      <td>YES</td>\n",
              "      <td>YES</td>\n",
              "      <td>NO</td>\n",
              "      <td>NaN</td>\n",
              "      <td>NaN</td>\n",
              "      <td>NaN</td>\n",
              "      <td>NaN</td>\n",
              "      <td>NaN</td>\n",
              "      <td>NaN</td>\n",
              "      <td>Dies in Fear Itself brought back because that'...</td>\n",
              "    </tr>\n",
              "  </tbody>\n",
              "</table>\n",
              "<p>5 rows × 21 columns</p>\n",
              "</div>\n",
              "    <div class=\"colab-df-buttons\">\n",
              "\n",
              "  <div class=\"colab-df-container\">\n",
              "    <button class=\"colab-df-convert\" onclick=\"convertToInteractive('df-af2c5fc8-b521-4ad5-9c11-b07d13e29e19')\"\n",
              "            title=\"Convert this dataframe to an interactive table.\"\n",
              "            style=\"display:none;\">\n",
              "\n",
              "  <svg xmlns=\"http://www.w3.org/2000/svg\" height=\"24px\" viewBox=\"0 -960 960 960\">\n",
              "    <path d=\"M120-120v-720h720v720H120Zm60-500h600v-160H180v160Zm220 220h160v-160H400v160Zm0 220h160v-160H400v160ZM180-400h160v-160H180v160Zm440 0h160v-160H620v160ZM180-180h160v-160H180v160Zm440 0h160v-160H620v160Z\"/>\n",
              "  </svg>\n",
              "    </button>\n",
              "\n",
              "  <style>\n",
              "    .colab-df-container {\n",
              "      display:flex;\n",
              "      gap: 12px;\n",
              "    }\n",
              "\n",
              "    .colab-df-convert {\n",
              "      background-color: #E8F0FE;\n",
              "      border: none;\n",
              "      border-radius: 50%;\n",
              "      cursor: pointer;\n",
              "      display: none;\n",
              "      fill: #1967D2;\n",
              "      height: 32px;\n",
              "      padding: 0 0 0 0;\n",
              "      width: 32px;\n",
              "    }\n",
              "\n",
              "    .colab-df-convert:hover {\n",
              "      background-color: #E2EBFA;\n",
              "      box-shadow: 0px 1px 2px rgba(60, 64, 67, 0.3), 0px 1px 3px 1px rgba(60, 64, 67, 0.15);\n",
              "      fill: #174EA6;\n",
              "    }\n",
              "\n",
              "    .colab-df-buttons div {\n",
              "      margin-bottom: 4px;\n",
              "    }\n",
              "\n",
              "    [theme=dark] .colab-df-convert {\n",
              "      background-color: #3B4455;\n",
              "      fill: #D2E3FC;\n",
              "    }\n",
              "\n",
              "    [theme=dark] .colab-df-convert:hover {\n",
              "      background-color: #434B5C;\n",
              "      box-shadow: 0px 1px 3px 1px rgba(0, 0, 0, 0.15);\n",
              "      filter: drop-shadow(0px 1px 2px rgba(0, 0, 0, 0.3));\n",
              "      fill: #FFFFFF;\n",
              "    }\n",
              "  </style>\n",
              "\n",
              "    <script>\n",
              "      const buttonEl =\n",
              "        document.querySelector('#df-af2c5fc8-b521-4ad5-9c11-b07d13e29e19 button.colab-df-convert');\n",
              "      buttonEl.style.display =\n",
              "        google.colab.kernel.accessAllowed ? 'block' : 'none';\n",
              "\n",
              "      async function convertToInteractive(key) {\n",
              "        const element = document.querySelector('#df-af2c5fc8-b521-4ad5-9c11-b07d13e29e19');\n",
              "        const dataTable =\n",
              "          await google.colab.kernel.invokeFunction('convertToInteractive',\n",
              "                                                    [key], {});\n",
              "        if (!dataTable) return;\n",
              "\n",
              "        const docLinkHtml = 'Like what you see? Visit the ' +\n",
              "          '<a target=\"_blank\" href=https://colab.research.google.com/notebooks/data_table.ipynb>data table notebook</a>'\n",
              "          + ' to learn more about interactive tables.';\n",
              "        element.innerHTML = '';\n",
              "        dataTable['output_type'] = 'display_data';\n",
              "        await google.colab.output.renderOutput(dataTable, element);\n",
              "        const docLink = document.createElement('div');\n",
              "        docLink.innerHTML = docLinkHtml;\n",
              "        element.appendChild(docLink);\n",
              "      }\n",
              "    </script>\n",
              "  </div>\n",
              "\n",
              "\n",
              "    <div id=\"df-2c220570-85a9-40b0-b04e-35121cd6a4a5\">\n",
              "      <button class=\"colab-df-quickchart\" onclick=\"quickchart('df-2c220570-85a9-40b0-b04e-35121cd6a4a5')\"\n",
              "                title=\"Suggest charts\"\n",
              "                style=\"display:none;\">\n",
              "\n",
              "<svg xmlns=\"http://www.w3.org/2000/svg\" height=\"24px\"viewBox=\"0 0 24 24\"\n",
              "     width=\"24px\">\n",
              "    <g>\n",
              "        <path d=\"M19 3H5c-1.1 0-2 .9-2 2v14c0 1.1.9 2 2 2h14c1.1 0 2-.9 2-2V5c0-1.1-.9-2-2-2zM9 17H7v-7h2v7zm4 0h-2V7h2v10zm4 0h-2v-4h2v4z\"/>\n",
              "    </g>\n",
              "</svg>\n",
              "      </button>\n",
              "\n",
              "<style>\n",
              "  .colab-df-quickchart {\n",
              "      --bg-color: #E8F0FE;\n",
              "      --fill-color: #1967D2;\n",
              "      --hover-bg-color: #E2EBFA;\n",
              "      --hover-fill-color: #174EA6;\n",
              "      --disabled-fill-color: #AAA;\n",
              "      --disabled-bg-color: #DDD;\n",
              "  }\n",
              "\n",
              "  [theme=dark] .colab-df-quickchart {\n",
              "      --bg-color: #3B4455;\n",
              "      --fill-color: #D2E3FC;\n",
              "      --hover-bg-color: #434B5C;\n",
              "      --hover-fill-color: #FFFFFF;\n",
              "      --disabled-bg-color: #3B4455;\n",
              "      --disabled-fill-color: #666;\n",
              "  }\n",
              "\n",
              "  .colab-df-quickchart {\n",
              "    background-color: var(--bg-color);\n",
              "    border: none;\n",
              "    border-radius: 50%;\n",
              "    cursor: pointer;\n",
              "    display: none;\n",
              "    fill: var(--fill-color);\n",
              "    height: 32px;\n",
              "    padding: 0;\n",
              "    width: 32px;\n",
              "  }\n",
              "\n",
              "  .colab-df-quickchart:hover {\n",
              "    background-color: var(--hover-bg-color);\n",
              "    box-shadow: 0 1px 2px rgba(60, 64, 67, 0.3), 0 1px 3px 1px rgba(60, 64, 67, 0.15);\n",
              "    fill: var(--button-hover-fill-color);\n",
              "  }\n",
              "\n",
              "  .colab-df-quickchart-complete:disabled,\n",
              "  .colab-df-quickchart-complete:disabled:hover {\n",
              "    background-color: var(--disabled-bg-color);\n",
              "    fill: var(--disabled-fill-color);\n",
              "    box-shadow: none;\n",
              "  }\n",
              "\n",
              "  .colab-df-spinner {\n",
              "    border: 2px solid var(--fill-color);\n",
              "    border-color: transparent;\n",
              "    border-bottom-color: var(--fill-color);\n",
              "    animation:\n",
              "      spin 1s steps(1) infinite;\n",
              "  }\n",
              "\n",
              "  @keyframes spin {\n",
              "    0% {\n",
              "      border-color: transparent;\n",
              "      border-bottom-color: var(--fill-color);\n",
              "      border-left-color: var(--fill-color);\n",
              "    }\n",
              "    20% {\n",
              "      border-color: transparent;\n",
              "      border-left-color: var(--fill-color);\n",
              "      border-top-color: var(--fill-color);\n",
              "    }\n",
              "    30% {\n",
              "      border-color: transparent;\n",
              "      border-left-color: var(--fill-color);\n",
              "      border-top-color: var(--fill-color);\n",
              "      border-right-color: var(--fill-color);\n",
              "    }\n",
              "    40% {\n",
              "      border-color: transparent;\n",
              "      border-right-color: var(--fill-color);\n",
              "      border-top-color: var(--fill-color);\n",
              "    }\n",
              "    60% {\n",
              "      border-color: transparent;\n",
              "      border-right-color: var(--fill-color);\n",
              "    }\n",
              "    80% {\n",
              "      border-color: transparent;\n",
              "      border-right-color: var(--fill-color);\n",
              "      border-bottom-color: var(--fill-color);\n",
              "    }\n",
              "    90% {\n",
              "      border-color: transparent;\n",
              "      border-bottom-color: var(--fill-color);\n",
              "    }\n",
              "  }\n",
              "</style>\n",
              "\n",
              "      <script>\n",
              "        async function quickchart(key) {\n",
              "          const quickchartButtonEl =\n",
              "            document.querySelector('#' + key + ' button');\n",
              "          quickchartButtonEl.disabled = true;  // To prevent multiple clicks.\n",
              "          quickchartButtonEl.classList.add('colab-df-spinner');\n",
              "          try {\n",
              "            const charts = await google.colab.kernel.invokeFunction(\n",
              "                'suggestCharts', [key], {});\n",
              "          } catch (error) {\n",
              "            console.error('Error during call to suggestCharts:', error);\n",
              "          }\n",
              "          quickchartButtonEl.classList.remove('colab-df-spinner');\n",
              "          quickchartButtonEl.classList.add('colab-df-quickchart-complete');\n",
              "        }\n",
              "        (() => {\n",
              "          let quickchartButtonEl =\n",
              "            document.querySelector('#df-2c220570-85a9-40b0-b04e-35121cd6a4a5 button');\n",
              "          quickchartButtonEl.style.display =\n",
              "            google.colab.kernel.accessAllowed ? 'block' : 'none';\n",
              "        })();\n",
              "      </script>\n",
              "    </div>\n",
              "\n",
              "    </div>\n",
              "  </div>\n"
            ],
            "application/vnd.google.colaboratory.intrinsic+json": {
              "type": "dataframe",
              "variable_name": "df"
            }
          },
          "metadata": {},
          "execution_count": 1
        }
      ]
    },
    {
      "cell_type": "code",
      "source": [
        "import pandas as pa\n",
        "import numpy as np\n",
        "from sklearn.linear_model import LogisticRegression\n",
        "\n",
        "# load avengers data\n",
        "df = pa.read_csv('https://raw.githubusercontent.com/nurfnick/Data_Sets_For_Stats/master/CuratedDataSets/Avengers')\n",
        "\n",
        "# clean death column -> 1 if YES, else 0\n",
        "df['Death1_bin'] = df['Death1'].apply(lambda x: 1 if str(x).upper()=='YES' else 0)\n",
        "\n",
        "# choose features: Appearances + Gender\n",
        "df['Appearances'] = pa.to_numeric(df['Appearances'], errors='coerce').fillna(0)\n",
        "df['GenderSimple'] = df['Gender'].fillna('UNKNOWN').str.upper()\n",
        "\n",
        "# turn gender categories into columns\n",
        "dummies = pa.get_dummies(df['GenderSimple'], prefix='G')\n",
        "\n",
        "# set up X and y\n",
        "X = pa.concat([df[['Appearances']], dummies], axis=1)\n",
        "y = df['Death1_bin']\n",
        "\n",
        "# fit logistic regression\n",
        "log = LogisticRegression(max_iter=200)\n",
        "log.fit(X, y)\n",
        "\n",
        "# ----- PREDICT FOR FAVORITE CHARACTER (Thor) -----\n",
        "fav = df[df['Name/Alias'].str.contains(\"Thor\", case=False, na=False)].iloc[0]\n",
        "\n",
        "# format thor's data to match X\n",
        "fav_row = pa.concat([pa.DataFrame([[fav['Appearances']]], columns=['Appearances']),\n",
        "                    dummies.iloc[0:1]*0], axis=1)   # start with zeros for gender dummies\n",
        "\n",
        "# set Thor's gender dummy to 1\n",
        "fav_row[f\"G_{fav['GenderSimple']}\"] = 1\n",
        "\n",
        "# get probability of first death\n",
        "prob = log.predict_proba(fav_row)[0][1]\n",
        "\n",
        "print(\"Probability Thor has died (Death1) =\", prob)\n"
      ],
      "metadata": {
        "colab": {
          "base_uri": "https://localhost:8080/"
        },
        "id": "ShRyHJCkto40",
        "outputId": "e09e7b5d-29bd-44a2-b517-0562e4c74a2c"
      },
      "execution_count": null,
      "outputs": [
        {
          "output_type": "stream",
          "name": "stdout",
          "text": [
            "Probability Thor has died (Death1) = 0.7240910355226521\n"
          ]
        }
      ]
    },
    {
      "cell_type": "markdown",
      "source": [
        "For my logistic regression, I used Appearances and Gender as predictors for Death1.\n",
        "\n",
        "I then made a probability prediction for my favorite character, Thor.\n",
        "\n",
        "The model estimated:\n",
        "\n",
        "Probability Thor has died (Death1) = 0.724 → about 72%\n",
        "\n",
        "So according to the model, Thor is pretty likely to have died at least once in the comics."
      ],
      "metadata": {
        "id": "n1S9EbYDGvwW"
      }
    },
    {
      "cell_type": "markdown",
      "source": [
        "# **Find you Own Regression**"
      ],
      "metadata": {
        "id": "aFWoWgg4Gb3N"
      }
    },
    {
      "cell_type": "code",
      "source": [
        "import pandas as pa\n",
        "import numpy as np\n",
        "import matplotlib.pyplot as plt\n",
        "from sklearn.linear_model import LinearRegression\n",
        "\n",
        "# load data\n",
        "df = pa.read_csv('https://raw.githubusercontent.com/nurfnick/Data_Sets_For_Stats/master/CuratedDataSets/100mOlympicRecords.csv')\n",
        "\n",
        "# pull out Year from Games (first 4 characters)\n",
        "df['Year'] = df['Games'].astype(str).str[:4].astype(int)\n",
        "\n",
        "# X and y\n",
        "X = df[['Year']]\n",
        "y = df['Time']\n",
        "\n",
        "# fit linear regression\n",
        "lin = LinearRegression()\n",
        "lin.fit(X, y)\n",
        "\n",
        "# slope and intercept (optional print)\n",
        "print(\"Model: Time =\", lin.coef_[0], \"* Year +\", lin.intercept_)\n",
        "\n",
        "# prediction\n",
        "pred_2024 = lin.predict([[2024]])[0]\n",
        "pred_2300 = lin.predict([[2300]])[0]\n",
        "print(\"Predicted 100m time in 2024:\", pred_2024)\n",
        "print(\"Predicted 100m time in 2300:\", pred_2300)\n",
        "\n",
        "# plot\n",
        "plt.scatter(X, y)\n",
        "plt.plot(X, lin.predict(X), linewidth=2)\n",
        "plt.xlabel(\"Year\")\n",
        "plt.ylabel(\"Time (seconds)\")\n",
        "plt.title(\"Olympic 100m Regression Line\")\n",
        "plt.show()\n"
      ],
      "metadata": {
        "colab": {
          "base_uri": "https://localhost:8080/",
          "height": 617
        },
        "id": "UbOTs7tT2mPk",
        "outputId": "59f00873-3351-450d-b647-de145386fc6c"
      },
      "execution_count": null,
      "outputs": [
        {
          "output_type": "stream",
          "name": "stdout",
          "text": [
            "Model: Time = -0.012577791703635521 * Year + 35.583392882779634\n",
            "Predicted 100m time in 2024: 10.12594247462134\n",
            "Predicted 100m time in 2300: 6.654471964417937\n"
          ]
        },
        {
          "output_type": "stream",
          "name": "stderr",
          "text": [
            "/usr/local/lib/python3.12/dist-packages/sklearn/utils/validation.py:2739: UserWarning: X does not have valid feature names, but LinearRegression was fitted with feature names\n",
            "  warnings.warn(\n",
            "/usr/local/lib/python3.12/dist-packages/sklearn/utils/validation.py:2739: UserWarning: X does not have valid feature names, but LinearRegression was fitted with feature names\n",
            "  warnings.warn(\n"
          ]
        },
        {
          "output_type": "display_data",
          "data": {
            "text/plain": [
              "<Figure size 640x480 with 1 Axes>"
            ],
            "image/png": "[encoded data removed]"
          },
          "metadata": {}
        }
      ]
    },
    {
      "cell_type": "markdown",
      "source": [
        "I used a linear regression model because 100m Olympic sprint records have gradually improved over time in a mostly straight downward trend.\n",
        "The model equation is:\n",
        "    Time = -0.0126 * Year + 35.583\n",
        "The predictions from my model were:\n",
        "- 2024: ~10.13 seconds (which is realistic, since modern Olympic winners run between 9.6 and 10.2 seconds)\n",
        "- 2300: ~6.65 seconds (which is probably NOT realistic, because humans can’t run that fast without extreme enhancements)"
      ],
      "metadata": {
        "id": "clgcGgPG2qgd"
      }
    }
  ]
}