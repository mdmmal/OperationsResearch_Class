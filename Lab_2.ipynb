{
  "nbformat": 4,
  "nbformat_minor": 0,
  "metadata": {
    "colab": {
      "provenance": [],
      "include_colab_link": true
    },
    "kernelspec": {
      "name": "python3",
      "display_name": "Python 3"
    },
    "language_info": {
      "name": "python"
    }
  },
  "cells": [
    {
      "cell_type": "markdown",
      "metadata": {
        "id": "view-in-github",
        "colab_type": "text"
      },
      "source": [
        "<a href=\"https://colab.research.google.com/github/mdmmal/OperationsResearch_Class/blob/main/Lab_2.ipynb\" target=\"_parent\"><img src=\"https://colab.research.google.com/assets/colab-badge.svg\" alt=\"Open In Colab\"/></a>"
      ]
    },
    {
      "cell_type": "markdown",
      "source": [
        "# Problem Solving"
      ],
      "metadata": {
        "id": "jRaIKW6MbtEr"
      }
    },
    {
      "cell_type": "markdown",
      "source": [
        "## Factorials\n",
        "\n",
        "A factorial is the product of all previous numbers and is expressed with an exclamation $!$.  Thus\n",
        "$$\n",
        "3! = 3\\cdot 2\\cdot 1 = 6\n",
        "$$\n",
        "\n",
        "and\n",
        "$$\n",
        "n! = n(n-1)(n-2)\\cdots3\\cdot2\\cdot1\n",
        "$$\n",
        "\n",
        "How many zeros does $1000!$ end with?  Please do not count them in the number below as the precision may be off!"
      ],
      "metadata": {
        "id": "ABJslq5hb0Z-"
      }
    },
    {
      "cell_type": "code",
      "execution_count": null,
      "metadata": {
        "colab": {
          "base_uri": "https://localhost:8080/"
        },
        "id": "LfbWxWvKbsQb",
        "outputId": "35fb3b8d-fcde-4446-d7ca-e351f7b4cc93"
      },
      "outputs": [
        {
          "output_type": "stream",
          "name": "stdout",
          "text": [
            "Trailing zeros in 1000!: 249\n"
          ]
        }
      ],
      "source": [
        "# Function to count trailing zeros in n!\n",
        "def count_trailing_zeros(n):\n",
        "    zeros = 0\n",
        "    # Keep dividing n by powers of 5\n",
        "    while n >= 5:\n",
        "        n //= 5\n",
        "        zeros += n\n",
        "    return zeros\n",
        "\n",
        "# Test with 1000!\n",
        "print(\"Trailing zeros in 1000!:\", count_trailing_zeros(1000))\n"
      ]
    },
    {
      "cell_type": "markdown",
      "source": [
        "## Big Numbers\n",
        "\n",
        "The sum of the digits of the number $100^{13}-26$ is how much?"
      ],
      "metadata": {
        "id": "yZpb4Ghbc4Zo"
      }
    },
    {
      "cell_type": "markdown",
      "source": [
        "Here is how I thought to approach the problem..."
      ],
      "metadata": {
        "id": "V8ptErrNicgC"
      }
    },
    {
      "cell_type": "code",
      "source": [
        "# calculate the big number\n",
        "num = 10013 - 26   # gives 9987\n",
        "\n",
        "# convert number to string to loop through its digits\n",
        "num_str = str(num)\n",
        "\n",
        "# convert each digit back to int and add them\n",
        "digit_sum = sum(int(digit) for digit in num_str)\n",
        "\n",
        "\n",
        "print(\"The number is:\", num)\n",
        "print(\"The sum of its digits is:\", digit_sum)\n"
      ],
      "metadata": {
        "colab": {
          "base_uri": "https://localhost:8080/"
        },
        "id": "SMGHYyFjcbTs",
        "outputId": "78a58532-68a0-49c4-eb2f-31fdcfe16355"
      },
      "execution_count": null,
      "outputs": [
        {
          "output_type": "stream",
          "name": "stdout",
          "text": [
            "The number is: 9987\n",
            "The sum of its digits is: 33\n"
          ]
        }
      ]
    },
    {
      "cell_type": "markdown",
      "source": [
        "## Handshakes\n",
        "\n",
        "Two soccer teams have just finished their game.  The two teams of 11 all shake hands and the winning team also shakes hand with each other.  How many handshakes have occured?"
      ],
      "metadata": {
        "id": "5p6sa9qZio6Z"
      }
    },
    {
      "cell_type": "code",
      "source": [
        "# Handshakes between the two teams\n",
        "cross_team = 11 * 11\n",
        "\n",
        "# Handshakes within the winning team\n",
        "within_team = (11 * 10) // 2  # formula for combinations\n",
        "\n",
        "# Total handshakes\n",
        "total = cross_team + within_team\n",
        "\n",
        "print(\"Total handshakes:\", total)\n"
      ],
      "metadata": {
        "id": "1PVPc6nDebCL",
        "outputId": "422e1fd6-8370-431d-8d8c-3657e5353c08",
        "colab": {
          "base_uri": "https://localhost:8080/"
        }
      },
      "execution_count": null,
      "outputs": [
        {
          "output_type": "stream",
          "name": "stdout",
          "text": [
            "Total handshakes: 176\n"
          ]
        }
      ]
    },
    {
      "cell_type": "markdown",
      "source": [
        "## Harder Handshakes\n",
        "\n",
        "Mr. Smith and his wife invited four other couples for a dinner party.  When everyone arrived, handshakes were exchanged with some of the others.  Of course no one shook hands with their spouse and nobody shook hands with the same person twice.\n",
        "\n",
        "Mr. Smith asked everyone how many times they shook hands.  He recieved a different answer from each person.\n",
        "\n",
        "How many times did Mr. Smith shake hands?"
      ],
      "metadata": {
        "id": "g4ypceUKjJrp"
      }
    },
    {
      "cell_type": "code",
      "source": [
        "# 10 people total (Mr. Smith, his wife=2, and 4 other couples=8)\n",
        "# Each person could shake between 0 and 8 hands (not with spouse, not themselves)\n",
        "\n",
        "possible_counts = list(range(9))  # 0,1,2,3,4,5,6,7,8\n",
        "\n",
        "# Everyone except Mr. Smith gave a different answer.\n",
        "# That means they must have answered exactly 0 through 8\n",
        "# The only number missing is Mr. Smith's own count\n",
        "\n",
        "\n",
        "print(\"The other 9 people reported these counts:\", possible_counts)\n",
        "\n",
        "#The missing value is 4 so Mr. Smith shook 4 hands.\n",
        "mr_smith_handshakes = 4\n",
        "\n",
        "print(\"Mr. Smith shook\", mr_smith_handshakes, \"hands.\")\n"
      ],
      "metadata": {
        "id": "qyHeUOSajwat",
        "outputId": "151f1ffb-2fe2-4537-eede-b50b26265e55",
        "colab": {
          "base_uri": "https://localhost:8080/"
        }
      },
      "execution_count": null,
      "outputs": [
        {
          "output_type": "stream",
          "name": "stdout",
          "text": [
            "The other 9 people reported these counts: [0, 1, 2, 3, 4, 5, 6, 7, 8]\n",
            "Mr. Smith shook 4 hands.\n"
          ]
        }
      ]
    }
  ]
}