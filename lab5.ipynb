{
  "nbformat": 4,
  "nbformat_minor": 0,
  "metadata": {
    "colab": {
      "provenance": [],
      "name": "lab5.ipynb",
      "authorship_tag": "ABX9TyPQMTg5URp1fmXlQPi7Ki2B",
      "include_colab_link": true
    },
    "kernelspec": {
      "name": "python3",
      "display_name": "Python 3"
    },
    "language_info": {
      "name": "python"
    }
  },
  "cells": [
    {
      "cell_type": "markdown",
      "metadata": {
        "id": "view-in-github",
        "colab_type": "text"
      },
      "source": [
        "<a href=\"https://colab.research.google.com/github/mdmmal/OperationsResearch_Class/blob/main/lab5.ipynb\" target=\"_parent\"><img src=\"https://colab.research.google.com/assets/colab-badge.svg\" alt=\"Open In Colab\"/></a>"
      ]
    },
    {
      "cell_type": "markdown",
      "source": [
        "\n",
        "\n",
        "# **Lab 05**"
      ],
      "metadata": {
        "id": "2lLZiA51bCdT"
      }
    },
    {
      "cell_type": "markdown",
      "source": [
        "$$f(n) = 7f(n-1)-10f(n-2)\\quad f(0) = 1\\quad f(1)=3$$"
      ],
      "metadata": {
        "id": "Nhmn8XR51VUz"
      }
    },
    {
      "cell_type": "markdown",
      "source": [
        "# **Analytic Equation**"
      ],
      "metadata": {
        "id": "l9OhUL8062ID"
      }
    },
    {
      "cell_type": "markdown",
      "source": [
        "\n",
        "\n",
        "This is the math part where we find a single formula for $f(n)$.\n",
        "\n",
        "Firstl we star with the Characteristic Equation: We change the recurrence to a quadratic equation, ignoring the initial conditions for a right now. $$r^2 - 7r + 10 = 0$$Find Roots by factoring:$$(r-5)(r-2) = 0$$The roots are $\\mathbf{r_1 = 5}$ and $\\mathbf{r_2 = 2}$.\n",
        "\n",
        "General Solution: The general form is $f(n) = A \\cdot 5^n + B \\cdot 2^n$.\n",
        "\n",
        "\n",
        "Then to solve for $A$ and $B$:\n",
        "\n",
        "\n",
        "We use the starting conditions:$f(0)=1$: $1 = A(1) + B(1) \\to \\mathbf{A + B = 1}$$f(1)=3$: $3 = 5A + 2B \\to \\mathbf{5A + 2B = 3}$\n",
        "\n",
        "Solving this system: We find that $\\mathbf{A = 1/3}$ and $\\mathbf{B = 2/3}$.\n",
        "\n",
        "\n",
        "Final Analytic Equation$$f(n) = \\frac{1}{3} \\cdot 5^n + \\frac{2}{3} \\cdot 2^n$$"
      ],
      "metadata": {
        "id": "GAPQEyhp2X2S"
      }
    },
    {
      "cell_type": "markdown",
      "source": [
        "### **Programmed Function:For future use.**"
      ],
      "metadata": {
        "id": "9wmmz5407BMG"
      }
    },
    {
      "cell_type": "code",
      "source": [
        "def f_analytic(n):\n",
        "\n",
        "    return (1/3) * (5**n) + (2/3) * (2**n)"
      ],
      "metadata": {
        "id": "D_U6sbqz47Wn"
      },
      "execution_count": null,
      "outputs": []
    },
    {
      "cell_type": "markdown",
      "source": [
        "### **Using dynamic programming.**"
      ],
      "metadata": {
        "id": "FcsyFNFs5jaG"
      }
    },
    {
      "cell_type": "code",
      "source": [
        "def f_dynamic_programming(n):\n",
        "    if n == 0:\n",
        "        return 1\n",
        "    if n == 1:\n",
        "        return 3\n",
        "\n",
        "    # L is the list where we store everything\n",
        "    L = [0] * (n + 1)\n",
        "    L[0] = 1\n",
        "    L[1] = 3\n",
        "\n",
        "    # Loop from the second term up to n\n",
        "    for i in range(2, n + 1):\n",
        "        # Use the recurrence formula\n",
        "        L[i] = 7 * L[i-1] - 10 * L[i-2]\n",
        "\n",
        "    return L[n]"
      ],
      "metadata": {
        "id": "oYpkGJyR5Ca9"
      },
      "execution_count": null,
      "outputs": []
    },
    {
      "cell_type": "markdown",
      "source": [
        "### **Using dynamic programming and memoization.**"
      ],
      "metadata": {
        "id": "spseSiRY5i3P"
      }
    },
    {
      "cell_type": "code",
      "source": [
        "# The cache needs to be outside so all the recursive calls can see it\n",
        "CACHE = {0: 1, 1: 3}\n",
        "\n",
        "def f_memoization(n):\n",
        "    # First thing: check if we already have the answer\n",
        "    if n in CACHE:\n",
        "        return CACHE[n]\n",
        "\n",
        "    # If not, calculate it recursively\n",
        "    result = 7 * f_memoization(n - 1) - 10 * f_memoization(n - 2)\n",
        "\n",
        "    # Save the answer before giving it back\n",
        "    CACHE[n] = result\n",
        "\n",
        "    return result"
      ],
      "metadata": {
        "id": "ORJzGt1E5hi6"
      },
      "execution_count": null,
      "outputs": []
    },
    {
      "cell_type": "markdown",
      "source": [
        "### **So in comparisson.**"
      ],
      "metadata": {
        "id": "QIipy6v86uuc"
      }
    },
    {
      "cell_type": "markdown",
      "source": [
        "The Analytic Method is the hardest to solve for a person because you have to do the algebra and solve systems of equations by hand usually. But once you have that final formula, the computer can find $f(1000)$ instantly because it just plugs the number in once. It's the best and fastest way if you can get the formula.\n",
        "\n",
        "Dynamic Programming (Bottom-Up) is easier to code because you just set up a list and run a simple loop from $f(2)$ up to $f(n)$. It's very safe and fast for larger numbers like $f(1000)$ because it won't crash. It's safe because it doesn't use recursion.\n",
        "\n",
        "Memoization to be is harder personally but here its easy to write because it follows the recursive definition, but it’s too risky for a giant number like $f(1000)$. Since it relies on recursion, it will probably crash the program by hitting the system's recursion limit.\n",
        "\n",
        "I can say since I struggle with Memoization that Analytic Method is the best for $f(1000)$ because it's only one calculation and works instantly. If you have to code it, Dynamic Programming is better than Memoization because it won't crash on huge numbers and is easier to remember in terms of how I code."
      ],
      "metadata": {
        "id": "j7_Infk25-sc"
      }
    }
  ]
}