{
  "nbformat": 4,
  "nbformat_minor": 0,
  "metadata": {
    "colab": {
      "provenance": []
    },
    "kernelspec": {
      "name": "python3",
      "display_name": "Python 3"
    },
    "language_info": {
      "name": "python"
    }
  },
  "cells": [
    {
      "cell_type": "markdown",
      "source": [
        "# Jamal Muhammad\n",
        "## Operations Research\n",
        "### Computer Lab 0\n",
        "\n",
        "My favorite function is len(). It tells me how many items are in a list, string etc, I used it all the time at UTEP we used it so much its practically the only function I remember vividly and am so familiar with."
      ],
      "metadata": {
        "id": "V8lamEprzb5O"
      }
    },
    {
      "cell_type": "code",
      "source": [
        "# This is a function that uses len() to return the length of a list of fruits\n",
        "def list_length(my_list):\n",
        "    # len() gives the number of elements in the list\n",
        "    return len(my_list)\n",
        "\n",
        "# Test the function with a few different lists\n",
        "print(\"Length of [1, 2, 3]:\", list_length([1, 2, 3]))\n",
        "print(\"Length of ['apple', 'banana']:\", list_length([\"apple\", \"banana\"]))\n",
        "print(\"Length of an empty list []:\", list_length([]))\n",
        "print(\"Length of range(0, 20):\", list_length(list(range(20))))\n"
      ],
      "metadata": {
        "colab": {
          "base_uri": "https://localhost:8080/"
        },
        "id": "UDFuz_rDRXed",
        "outputId": "df1e1824-973a-4b84-db26-d827fe65e8a2"
      },
      "execution_count": 1,
      "outputs": [
        {
          "output_type": "stream",
          "name": "stdout",
          "text": [
            "Length of [1, 2, 3]: 3\n",
            "Length of ['apple', 'banana']: 2\n",
            "Length of an empty list []: 0\n",
            "Length of range(0, 20): 20\n"
          ]
        }
      ]
    },
    {
      "cell_type": "code",
      "source": [
        "import random\n",
        "\n",
        "# List of 10 random value (integers) between 1 and 6 (like rolling dice)\n",
        "dice_rolls = [random.randint(1, 6) for _ in range(10)]\n",
        "\n",
        "# Shown generated list\n",
        "print(\"My dice rolls:\", dice_rolls)\n",
        "\n",
        "# Computes basic statistics\n",
        "print(\"Sum:\", sum(dice_rolls))        # total of all rolls\n",
        "print(\"Min:\", min(dice_rolls))        # smallest roll\n",
        "print(\"Max:\", max(dice_rolls))        # largest roll\n",
        "print(\"Average:\", sum(dice_rolls)/len(dice_rolls))  # one other value: the average\n"
      ],
      "metadata": {
        "colab": {
          "base_uri": "https://localhost:8080/"
        },
        "id": "bdOlkQTvTa3F",
        "outputId": "397c16b4-e906-4888-b73f-4c78cb8d19ce"
      },
      "execution_count": 4,
      "outputs": [
        {
          "output_type": "stream",
          "name": "stdout",
          "text": [
            "My dice rolls: [4, 3, 2, 6, 2, 5, 1, 3, 2, 5]\n",
            "Sum: 33\n",
            "Min: 1\n",
            "Max: 6\n",
            "Average: 3.3\n"
          ]
        }
      ]
    },
    {
      "cell_type": "markdown",
      "source": [
        "### The How\n",
        "I created my list by simulating the roll of a six sided die ten times using.\n",
        "This gave me ten random integers between 1 and 6 just like rolling a real die repeatedly.\n",
        "\n"
      ],
      "metadata": {
        "id": "lcyH5nGQUNUx"
      }
    }
  ]
}